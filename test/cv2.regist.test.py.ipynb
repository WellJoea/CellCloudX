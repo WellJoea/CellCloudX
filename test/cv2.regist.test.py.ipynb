{
 "cells": [
  {
   "cell_type": "markdown",
   "metadata": {},
   "source": [
    "# Import Library"
   ]
  },
  {
   "cell_type": "code",
   "execution_count": null,
   "metadata": {},
   "outputs": [],
   "source": [
    "import matplotlib\n",
    "%matplotlib inline\n",
    "\n",
    "import pandas as pd\n",
    "import numpy as np\n",
    "import scanpy as sc\n",
    "import anndata as ad\n",
    "import matplotlib.pyplot as plt\n",
    "import os\n",
    "import sys\n",
    "import importlib\n",
    "\n",
    "import SimpleITK as sitk\n",
    "from joblib import Parallel, delayed\n",
    "\n",
    "\n",
    "import sys\n",
    "sys.path.append('/lustre/grp/wxqlab/zhouw/JupyterCode')\n",
    "import cellcloud3d as cc\n",
    "\n",
    "import scanpy as sc\n",
    "sc.settings.verbosity = 3\n",
    "sc.logging.print_header()\n",
    "sc.settings.set_figure_params(dpi=100, dpi_save=200, fontsize=10, facecolor='white') \n",
    "#sc.settings.figdir='./'"
   ]
  },
  {
   "cell_type": "markdown",
   "metadata": {},
   "source": [
    "# SITK"
   ]
  },
  {
   "cell_type": "code",
   "execution_count": null,
   "metadata": {},
   "outputs": [],
   "source": [
    "importlib.reload(cc.rg)\n",
    "importlib.reload(cc)\n",
    "importlib.reload(cc.rg)\n",
    "importlib.reload(cc.rg._sitkreg)\n",
    "importlib.reload(cc.rg._features)\n",
    "importlib.reload(cc.tf)\n",
    "importlib.reload(cc.tf._transi)\n",
    "importlib.reload(cc.tf._transp)"
   ]
  },
  {
   "cell_type": "code",
   "execution_count": null,
   "metadata": {},
   "outputs": [],
   "source": [
    "import skimage as ski\n",
    "from skimage import transform\n",
    "from skimage import data\n",
    "from skimage import transform\n",
    "from skimage import img_as_float\n",
    "\n",
    "tform = transform.EuclideanTransform(\n",
    "    rotation=np.pi / 12.,\n",
    "    translation = (100, -20)\n",
    "    )\n",
    "print(tform.params)\n",
    "print(\"*\"*30)\n",
    "# tform = transform.SimilarityTransform(\n",
    "#     scale=0.5,\n",
    "#     rotation=np.pi/12,\n",
    "#     translation=(100, 50))\n",
    "# print(tform.params)\n",
    "\n",
    "img = img_as_float(data.chelsea())\n",
    "tf_img = transform.warp(img, tform.inverse)\n",
    "ifix = img #ski.color.rgb2gray(img)\n",
    "imov = tf_img #ski.color.rgb2gray(tf_img)\n",
    "ifix = ski.color.rgb2gray(img)\n",
    "imov = ski.color.rgb2gray(tf_img)\n",
    "\n",
    "fixed_image = cc.rg.sitkregist.image2sitk(ifix,2)\n",
    "moving_image = cc.rg.sitkregist.image2sitk(imov,2)\n",
    "\n",
    "rgsitk = cc.rg.sitkregist(transtype='rigid', dimension=2)\n",
    "mov_out, tparas = rgsitk.regist(fixed_image, moving_image, \n",
    "                             msp=0.8, \n",
    "                            #  centralRegionRadius=20,\n",
    "                             optimizer_type = 'RSGD', #'Exhaustive',\n",
    "                             optimizer_kargs={ \n",
    "                                    'numberOfSteps': [5,5,5,5],\n",
    "                                    'stepLength' : 1,\n",
    "                                    'learningRate':3,\n",
    "                                    'gradientMagnitudeTolerance':1e-7,\n",
    "                                    'minStep': 1e-6,\n",
    "                                },\n",
    "                             matrix_type='CORR')\n",
    "regmeth = rgsitk.reg_method\n",
    "\n",
    "moving_resampled = sitk.Resample(\n",
    "    moving_image,\n",
    "    fixed_image,\n",
    "    tparas,\n",
    "    sitk.sitkLinear,\n",
    "    0.0,\n",
    "    moving_image.GetPixelID())\n",
    "\n",
    "\n",
    "cc.pl.qview(ifix, imov, sitk.GetArrayFromImage(mov_out), sitk.GetArrayFromImage(moving_resampled), ncols=4)\n",
    "print(tparas)\n",
    "print('*'*30)\n",
    "print(regmeth)"
   ]
  }
 ],
 "metadata": {
  "kernelspec": {
   "display_name": "cc3d",
   "language": "python",
   "name": "python3"
  },
  "language_info": {
   "codemirror_mode": {
    "name": "ipython",
    "version": 3
   },
   "file_extension": ".py",
   "mimetype": "text/x-python",
   "name": "python",
   "nbconvert_exporter": "python",
   "pygments_lexer": "ipython3",
   "version": "3.10.13"
  }
 },
 "nbformat": 4,
 "nbformat_minor": 2
}
