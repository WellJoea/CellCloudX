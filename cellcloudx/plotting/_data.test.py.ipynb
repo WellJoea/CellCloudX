{
 "cells": [
  {
   "cell_type": "code",
   "execution_count": null,
   "metadata": {
    "vscode": {
     "languageId": "plaintext"
    }
   },
   "outputs": [],
   "source": [
    "import dash\n",
    "import dash_html_components as html\n",
    "import dash_bootstrap_components as dbc\n",
    "\n",
    "app = dash.Dash(\n",
    "    __name__,\n",
    "    external_stylesheets=[\n",
    "        dbc.themes.BOOTSTRAP,\n",
    "        \"https://cdnjs.cloudflare.com/ajax/libs/font-awesome/5.15.4/css/all.min.css\"\n",
    "    ]\n",
    ")\n",
    "\n",
    "app.layout = html.Div([\n",
    "    html.H3(\"Font Awesome 图标示例\"),\n",
    "    html.I(className=\"fas fa-coffee\", style={\"margin\": \"10px\"}),\n",
    "    html.I(className=\"fas fa-heart\", style={\"color\": \"red\", \"margin\": \"10px\"}),\n",
    "    \n",
    "    html.H3(\"Bootstrap 图标示例\"),\n",
    "    html.I(className=\"bi bi-house\", style={\"margin\": \"10px\"}),\n",
    "    html.I(className=\"bi bi-gear\", style={\"margin\": \"10px\"}),\n",
    "])\n",
    "\n",
    "if __name__ == \"__main__\":\n",
    "    app.run_server(debug=True)"
   ]
  }
 ],
 "metadata": {
  "language_info": {
   "name": "python"
  }
 },
 "nbformat": 4,
 "nbformat_minor": 2
}
